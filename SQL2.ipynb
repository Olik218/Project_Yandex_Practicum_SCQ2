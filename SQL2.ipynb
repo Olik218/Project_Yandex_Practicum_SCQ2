{
 "cells": [
  {
   "cell_type": "markdown",
   "id": "4a5d5808",
   "metadata": {},
   "source": [
    "Найдите количество вопросов, которые набрали больше 300 очков или как минимум 100 раз были добавлены в «Закладки»."
   ]
  },
  {
   "cell_type": "code",
   "execution_count": null,
   "id": "5800a2cb",
   "metadata": {},
   "outputs": [],
   "source": [
    "'''\n",
    "SELECT COUNT(id)\n",
    "FROM stackoverflow.posts \n",
    "WHERE post_type_id = 1\n",
    "  AND (score > 300\n",
    "       OR favorites_count >=100);\n",
    "'''"
   ]
  },
  {
   "cell_type": "markdown",
   "id": "8e11ade2",
   "metadata": {},
   "source": [
    "\n",
    "Сколько в среднем в день задавали вопросов с 1 по 18 ноября 2008 включительно? Результат округлите до целого числа."
   ]
  },
  {
   "cell_type": "code",
   "execution_count": null,
   "id": "93a63743",
   "metadata": {},
   "outputs": [],
   "source": [
    "'''\n",
    "SELECT ROUND(AVG(count_id))\n",
    "FROM (SELECT EXTRACT(DAY FROM creation_date) AS day,\n",
    "             COUNT(id) AS count_id\n",
    "      FROM stackoverflow.posts \n",
    "      WHERE post_type_id = 1 \n",
    "          AND DATE_TRUNC('day', creation_date) BETWEEN '2008-11-01' \n",
    "             AND '2008-11-18'\n",
    "      GROUP BY day) AS posts_grouped\n",
    "'''"
   ]
  },
  {
   "cell_type": "markdown",
   "id": "cf42dfcc",
   "metadata": {},
   "source": [
    "Сколько пользователей получили значки сразу в день регистрации? Выведите количество уникальных пользователей."
   ]
  },
  {
   "cell_type": "code",
   "execution_count": null,
   "id": "898d8c4d",
   "metadata": {},
   "outputs": [],
   "source": [
    "'''\n",
    "SELECT COUNT(DISTINCT u.id)\n",
    "FROM stackoverflow.users AS u\n",
    "LEFT JOIN stackoverflow.badges AS b ON u.id = b.user_id\n",
    "WHERE CAST(u.creation_date AS date) = CAST(b.creation_date AS date);\n",
    "'''"
   ]
  },
  {
   "cell_type": "markdown",
   "id": "2077ba30",
   "metadata": {},
   "source": [
    "\n",
    "Сколько уникальных постов пользователя с именем Joel Coehoorn получили хотя бы один голос?"
   ]
  },
  {
   "cell_type": "code",
   "execution_count": null,
   "id": "4e8db14f",
   "metadata": {},
   "outputs": [],
   "source": [
    "'''\n",
    "SELECT COUNT(DISTINCT p.id)\n",
    "FROM stackoverflow.posts AS p \n",
    "JOIN stackoverflow.users u ON p.user_id = u.id\n",
    "JOIN stackoverflow.votes AS v ON p.id = v.post_id \n",
    "WHERE u.display_name = 'Joel Coehoorn';\n",
    "'''"
   ]
  },
  {
   "cell_type": "markdown",
   "id": "3f101ec5",
   "metadata": {},
   "source": [
    "Выгрузите все поля таблицы vote_types. Добавьте к таблице поле rank, в которое войдут номера записей в обратном порядке. Таблица должна быть отсортирована по полю id."
   ]
  },
  {
   "cell_type": "code",
   "execution_count": null,
   "id": "4382beee",
   "metadata": {},
   "outputs": [],
   "source": [
    "'''\n",
    "SELECT *,\n",
    "       ROW_NUMBER() OVER (ORDER BY id DESC) as rank\n",
    "FROM stackoverflow.vote_types \n",
    "ORDER BY id;\n",
    "'''"
   ]
  },
  {
   "cell_type": "markdown",
   "id": "e489adb7",
   "metadata": {},
   "source": [
    "Отберите 10 пользователей, которые поставили больше всего голосов типа Close. Отобразите таблицу из двух полей: идентификатором пользователя и количеством голосов. Отсортируйте данные сначала по убыванию количества голосов, потом по убыванию значения идентификатора пользователя."
   ]
  },
  {
   "cell_type": "code",
   "execution_count": null,
   "id": "24d7b09a",
   "metadata": {},
   "outputs": [],
   "source": [
    "'''\n",
    "SELECT u.id,\n",
    "       COUNT(v.id)\n",
    "FROM stackoverflow.votes AS v\n",
    "JOIN stackoverflow.users AS u ON v.user_id = u.id \n",
    "JOIN stackoverflow.vote_types AS vt ON v.vote_type_id = vt.id \n",
    "WHERE vt.name = 'Close'\n",
    "GROUP BY u.id\n",
    "ORDER BY COUNT(v.id) DESC, u.id DESC\n",
    "LIMIT 10;\n",
    "'''"
   ]
  },
  {
   "cell_type": "markdown",
   "id": "74e4fb0d",
   "metadata": {},
   "source": [
    "Отберите 10 пользователей по количеству значков, полученных в период с 15 ноября по 15 декабря 2008 года включительно.\n",
    "Отобразите несколько полей:\n",
    "* идентификатор пользователя;\n",
    "* число значков;\n",
    "* место в рейтинге — чем больше значков, тем выше рейтинг.\n",
    "\n",
    "Пользователям, которые набрали одинаковое количество значков, присвойте одно и то же место в рейтинге.\n",
    "\n",
    "Отсортируйте записи по количеству значков по убыванию, а затем по возрастанию значения идентификатора пользователя."
   ]
  },
  {
   "cell_type": "code",
   "execution_count": null,
   "id": "c1b2bbe1",
   "metadata": {},
   "outputs": [],
   "source": [
    "'''\n",
    "SELECT u.id,\n",
    "       COUNT(b.id) AS badges_count,\n",
    "       DENSE_RANK() OVER (ORDER BY COUNT(b.id) DESC)\n",
    "FROM stackoverflow.users u \n",
    "JOIN stackoverflow.badges b ON u.id = b.user_id\n",
    "WHERE DATE_TRUNC('day', b.creation_date) BETWEEN '2008-11-15' AND '2008-12-15'\n",
    "GROUP BY u.id \n",
    "ORDER BY badges_count DESC, u.id\n",
    "LIMIT 10;\n",
    "'''"
   ]
  },
  {
   "cell_type": "markdown",
   "id": "db3405f7",
   "metadata": {},
   "source": [
    "Сколько в среднем очков получает пост каждого пользователя?\n",
    "Сформируйте таблицу из следующих полей:\n",
    "* заголовок поста;\n",
    "* идентификатор пользователя;\n",
    "*  очков поста;\n",
    "* среднее число очков пользователя за пост, округлённое до целого числа.\n",
    "\n",
    "Не учитывайте посты без заголовка, а также те, что набрали ноль очков."
   ]
  },
  {
   "cell_type": "code",
   "execution_count": null,
   "id": "f7ada05c",
   "metadata": {},
   "outputs": [],
   "source": [
    "'''\n",
    "SELECT p.title,\n",
    "       u.id,\n",
    "       score,\n",
    "       ROUND(AVG(score) OVER (PARTITION BY u.id))\n",
    "FROM stackoverflow.posts AS p\n",
    "LEFT JOIN stackoverflow.users AS u ON p.user_id = u.id  \n",
    "WHERE score != 0 AND title IS NOT NULL;\n",
    "'''"
   ]
  },
  {
   "cell_type": "markdown",
   "id": "0457fdda",
   "metadata": {},
   "source": [
    "\n",
    "Отобразите заголовки постов, которые были написаны пользователями, получившими более 1000 значков. Посты без заголовков не должны попасть в список."
   ]
  },
  {
   "cell_type": "code",
   "execution_count": null,
   "id": "962ceb86",
   "metadata": {},
   "outputs": [],
   "source": [
    "'''\n",
    "SELECT title\n",
    "FROM stackoverflow.posts AS p\n",
    "LEFT JOIN stackoverflow.users AS uu ON p.user_id = uu.id\n",
    "WHERE p.user_id IN\n",
    "    (SELECT u.id\n",
    "     FROM stackoverflow.users AS u\n",
    "     JOIN stackoverflow.badges AS b ON u.id = b.user_id\n",
    "     GROUP BY u.id\n",
    "     HAVING COUNT(DISTINCT b.id)>1000)\n",
    "  AND title IS NOT NULL;\n",
    "'''"
   ]
  },
  {
   "cell_type": "markdown",
   "id": "48aeb241",
   "metadata": {},
   "source": [
    "Напишите запрос, который выгрузит данные о пользователях из США (англ. United States). Разделите пользователей на три группы в зависимости от количества просмотров их профилей:\n",
    "* пользователям с числом просмотров больше либо равным 350 присвойте группу 1;\n",
    "* пользователям с числом просмотров меньше 350, но больше либо равно 100 — группу 2;\n",
    "* пользователям с числом просмотров меньше 100 — группу 3.\n",
    "\n",
    "Отобразите в итоговой таблице идентификатор пользователя, количество просмотров профиля и группу. Пользователи с нулевым количеством просмотров не должны войти в итоговую таблицу."
   ]
  },
  {
   "cell_type": "code",
   "execution_count": null,
   "id": "79aa0044",
   "metadata": {},
   "outputs": [],
   "source": [
    "'''\n",
    "SELECT id,\n",
    "       views,\n",
    "       CASE \n",
    "           WHEN views >= 350 THEN 1\n",
    "           WHEN views >= 100 THEN 2\n",
    "           ELSE 3\n",
    "       END \n",
    "FROM stackoverflow.users AS u \n",
    "WHERE location LIKE '%United States%' AND views > 0\n",
    "'''"
   ]
  },
  {
   "cell_type": "markdown",
   "id": "4ed29583",
   "metadata": {},
   "source": [
    "Дополните предыдущий запрос. Отобразите лидеров каждой группы — пользователей, которые набрали максимальное число просмотров в своей группе. Выведите поля с идентификатором пользователя, группой и количеством просмотров. Отсортируйте таблицу по убыванию просмотров, а затем по возрастанию значения идентификатора."
   ]
  },
  {
   "cell_type": "code",
   "execution_count": null,
   "id": "3fa16887",
   "metadata": {},
   "outputs": [],
   "source": [
    "'''\n",
    "SELECT id,\n",
    "       q1,\n",
    "       views\n",
    "FROM (SELECT *,\n",
    "             MAX(views) OVER (PARTITION BY q1) AS val_max\n",
    "      FROM (SELECT id,\n",
    "                   views,\n",
    "                   CASE \n",
    "                       WHEN views >= 350 THEN 1\n",
    "                       WHEN views >= 100 THEN 2\n",
    "                       ELSE 3\n",
    "                   END AS q1\n",
    "            FROM stackoverflow.users AS u \n",
    "            WHERE location LIKE '%United States%' AND views> 0) AS a) AS q2\n",
    "WHERE val_max = views\n",
    "ORDER BY views DESC, id\n",
    "'''"
   ]
  },
  {
   "cell_type": "markdown",
   "id": "289c9d30",
   "metadata": {},
   "source": [
    "Посчитайте ежедневный прирост новых пользователей в ноябре 2008 года. Сформируйте таблицу с полями:\n",
    "*  номер дня;\n",
    "* число пользователей, зарегистрированных в этот день;\n",
    "* сумму пользователей с накоплением."
   ]
  },
  {
   "cell_type": "code",
   "execution_count": null,
   "id": "b13b5a7f",
   "metadata": {},
   "outputs": [],
   "source": [
    "'''\n",
    "WITH q1 AS (SELECT EXTRACT(DAY FROM creation_date) as reg,\n",
    "                        COUNT(id) AS q1_id\n",
    "                 FROM stackoverflow.users u \n",
    "                 WHERE EXTRACT(MONTH FROM creation_date) = 11\n",
    "                           AND EXTRACT(YEAR FROM creation_date) = 2008\n",
    "                 GROUP BY reg)\n",
    "SELECT *,\n",
    "       SUM(q1_id) OVER (ORDER BY reg)\n",
    "FROM q1;\n",
    "'''"
   ]
  },
  {
   "cell_type": "markdown",
   "id": "08437da3",
   "metadata": {},
   "source": [
    "Для каждого пользователя, который написал хотя бы один пост, найдите интервал между регистрацией и временем создания первого поста. Отобразите:\n",
    "* идентификатор пользователя;\n",
    "* разницу во времени между регистрацией и первым постом."
   ]
  },
  {
   "cell_type": "code",
   "execution_count": null,
   "id": "08d6dcac",
   "metadata": {},
   "outputs": [],
   "source": [
    "'''\n",
    "WITH q1 AS (SELECT user_id,\n",
    "                    p.creation_date AS p_cd,\n",
    "                    ROW_NUMBER() OVER (PARTITION BY user_id ORDER BY p.creation_date) AS cd_t,\n",
    "                    u.creation_date AS cd \n",
    "             FROM stackoverflow.posts AS p JOIN stackoverflow.users AS u ON p.user_id = u.id \n",
    "             ORDER BY user_id)\n",
    "SELECT user_id,\n",
    "       p_cd - cd\n",
    "FROM q1\n",
    "WHERE cd_t = 1\n",
    "'''"
   ]
  },
  {
   "cell_type": "markdown",
   "id": "114d3d03",
   "metadata": {},
   "source": [
    "Выведите общую сумму просмотров постов за каждый месяц 2008 года. Если данных за какой-либо месяц в базе нет, такой месяц можно пропустить. Результат отсортируйте по убыванию общего количества просмотров."
   ]
  },
  {
   "cell_type": "code",
   "execution_count": null,
   "id": "61e1d3fa",
   "metadata": {},
   "outputs": [],
   "source": [
    "'''\n",
    "SELECT DATE_TRUNC('month', creation_date)::date AS month_date,\n",
    "       SUM(views_count) AS total_views\n",
    "FROM stackoverflow.posts \n",
    "GROUP BY month_date\n",
    "ORDER BY total_views DESC;\n",
    "'''"
   ]
  },
  {
   "cell_type": "markdown",
   "id": "ff9e63da",
   "metadata": {},
   "source": [
    "Выведите имена самых активных пользователей, которые в первый месяц после регистрации (включая день регистрации) дали больше 100 ответов. Вопросы, которые задавали пользователи, не учитывайте. Для каждого имени пользователя выведите количество уникальных значений user_id. Отсортируйте результат по полю с именами в лексикографическом порядке."
   ]
  },
  {
   "cell_type": "code",
   "execution_count": null,
   "id": "d0fed149",
   "metadata": {},
   "outputs": [],
   "source": [
    "'''\n",
    "SELECT u.display_name,\n",
    "       COUNT(DISTINCT user_id)\n",
    "FROM stackoverflow.posts p\n",
    "JOIN stackoverflow.post_types pt ON p.post_type_id = pt.id\n",
    "JOIN stackoverflow.users u ON u.id = p.user_id\n",
    "WHERE DATE_TRUNC('day', p.creation_date) >= DATE_TRUNC('day', u.creation_date)\n",
    "  AND DATE_TRUNC('day', p.creation_date) <= DATE_TRUNC('day', u.creation_date) + INTERVAL '1 month'\n",
    "  AND pt.type = 'Answer'\n",
    "GROUP BY u.display_name\n",
    "HAVING COUNT(*) > 100\n",
    "ORDER BY display_name;\n",
    "'''"
   ]
  },
  {
   "cell_type": "markdown",
   "id": "4ab180c7",
   "metadata": {},
   "source": [
    "Выведите количество постов за 2008 год по месяцам. Отберите посты от пользователей, которые зарегистрировались в сентябре 2008 года и сделали хотя бы один пост в декабре того же года. Отсортируйте таблицу по значению месяца по убыванию."
   ]
  },
  {
   "cell_type": "code",
   "execution_count": null,
   "id": "2b433098",
   "metadata": {},
   "outputs": [],
   "source": [
    "'''\n",
    "SELECT DATE_TRUNC('month', creation_date)::date AS monthly,\n",
    "       COUNT(*)\n",
    "FROM stackoverflow.posts\n",
    "WHERE user_id IN\n",
    "    (SELECT DISTINCT u.id\n",
    "     FROM stackoverflow.users u\n",
    "     JOIN stackoverflow.posts p ON u.id = p.user_id\n",
    "     WHERE DATE_TRUNC('month', u.creation_date) = '2008-09-01'\n",
    "       AND DATE_TRUNC('month', p.creation_date) = '2008-12-01')\n",
    "GROUP BY monthly\n",
    "ORDER BY monthly DESC;\n",
    "'''"
   ]
  },
  {
   "cell_type": "markdown",
   "id": "c42b3ef0",
   "metadata": {},
   "source": [
    "\n",
    "Используя данные о постах, выведите несколько полей:\n",
    "* идентификатор пользователя, который написал пост;\n",
    "* дата создания поста;\n",
    "* количество просмотров у текущего поста;\n",
    "* сумму просмотров постов автора с накоплением.\n",
    "\n",
    "Данные в таблице должны быть отсортированы по возрастанию идентификаторов пользователей, а данные об одном и том же пользователе — по возрастанию даты создания поста."
   ]
  },
  {
   "cell_type": "code",
   "execution_count": null,
   "id": "1006c132",
   "metadata": {},
   "outputs": [],
   "source": [
    "'''\n",
    "SELECT user_id,\n",
    "       creation_date,\n",
    "       views_count,\n",
    "       SUM(views_count) OVER (PARTITION BY user_id ORDER BY creation_date) AS vieas\n",
    "FROM stackoverflow.posts;\n",
    "'''"
   ]
  },
  {
   "cell_type": "markdown",
   "id": "d592b41b",
   "metadata": {},
   "source": [
    "\n",
    "На сколько процентов менялось количество постов ежемесячно с 1 сентября по 31 декабря 2008 года? Отобразите таблицу со следующими полями:\n",
    "* номер месяца;\n",
    "* количество постов за месяц;\n",
    "* процент, который показывает, насколько изменилось количество постов в текущем месяце по сравнению с предыдущим.\n",
    "\n",
    "Если постов стало меньше, значение процента должно быть отрицательным, если больше — положительным. Округлите значение процента до двух знаков после запятой.\n",
    "\n",
    "Напомним, что при делении одного целого числа на другое в PostgreSQL в результате получится целое число, округлённое до ближайшего целого вниз. Чтобы этого избежать, переведите делимое в тип numeric."
   ]
  },
  {
   "cell_type": "code",
   "execution_count": null,
   "id": "9d0e4e04",
   "metadata": {},
   "outputs": [],
   "source": [
    "'''\n",
    "SELECT *,\n",
    "       ROUND((100 * CAST(posts_count AS numeric) / LAG(posts_count, 1) OVER (ORDER BY posts_count DESC) - 100),2) AS percentage   \n",
    "FROM (SELECT EXTRACT(MONTH FROM creation_date) AS creation_monthly,\n",
    "             COUNT(id) AS posts_count\n",
    "      FROM stackoverflow.posts \n",
    "      WHERE creation_date BETWEEN '2008-09-01' AND '2008-12-31'\n",
    "      GROUP BY creation_monthly\n",
    "      ORDER BY creation_monthly) AS foo;\n",
    "'''"
   ]
  },
  {
   "cell_type": "markdown",
   "id": "a0093e9e",
   "metadata": {},
   "source": [
    "\n",
    "Выгрузите данные активности пользователя, который опубликовал больше всего постов за всё время. Выведите данные за октябрь 2008 года в таком виде:\n",
    "* номер недели;\n",
    "* дата и время последнего поста, опубликованного на этой неделе."
   ]
  },
  {
   "cell_type": "code",
   "execution_count": null,
   "id": "84718171",
   "metadata": {},
   "outputs": [],
   "source": [
    "'''\n",
    "SELECT week_creation,\n",
    "       creation_date\n",
    "FROM\n",
    "  (SELECT *,\n",
    "          ROW_NUMBER() OVER (PARTITION BY week_creation\n",
    "                             ORDER BY creation_date DESC) AS number_posts\n",
    "   FROM\n",
    "     (SELECT id,\n",
    "             title,\n",
    "             user_id,\n",
    "             EXTRACT(WEEK\n",
    "                     FROM creation_date) AS week_creation,\n",
    "             creation_date\n",
    "      FROM stackoverflow.posts\n",
    "      WHERE EXTRACT(MONTH\n",
    "                    FROM creation_date) = 10\n",
    "        AND user_id IN\n",
    "          (SELECT user_id\n",
    "           FROM stackoverflow.posts\n",
    "           GROUP BY user_id\n",
    "           ORDER BY COUNT(user_id) DESC\n",
    "           LIMIT 1)) AS p_1) AS p_2\n",
    "WHERE number_posts = 1;\n",
    "'''"
   ]
  }
 ],
 "metadata": {
  "kernelspec": {
   "display_name": "Python 3 (ipykernel)",
   "language": "python",
   "name": "python3"
  },
  "language_info": {
   "codemirror_mode": {
    "name": "ipython",
    "version": 3
   },
   "file_extension": ".py",
   "mimetype": "text/x-python",
   "name": "python",
   "nbconvert_exporter": "python",
   "pygments_lexer": "ipython3",
   "version": "3.9.12"
  }
 },
 "nbformat": 4,
 "nbformat_minor": 5
}
